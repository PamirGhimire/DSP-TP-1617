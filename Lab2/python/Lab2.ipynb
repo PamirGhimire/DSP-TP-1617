{
 "cells": [
  {
   "cell_type": "markdown",
   "metadata": {},
   "source": [
    "# Digital Signal Processing\n",
    "\n",
    "### MsCV - ViBOT - MAIA"
   ]
  },
  {
   "cell_type": "code",
   "execution_count": 1,
   "metadata": {
    "collapsed": false
   },
   "outputs": [
    {
     "name": "stdout",
     "output_type": "stream",
     "text": [
      "Pretty printing has been turned OFF\n"
     ]
    }
   ],
   "source": [
    "%matplotlib inline\n",
    "%pprint off\n",
    "\n",
    "# To make some nice plot\n",
    "import matplotlib.pyplot as plt\n",
    "# To play with arrays\n",
    "import numpy as np"
   ]
  },
  {
   "cell_type": "markdown",
   "metadata": {},
   "source": [
    "## Reminder 1 "
   ]
  },
  {
   "cell_type": "markdown",
   "metadata": {},
   "source": [
    "Plot $x(t) = sin(2\\pi f t)$,  $f = 1 Hz$"
   ]
  },
  {
   "cell_type": "code",
   "execution_count": 33,
   "metadata": {
    "collapsed": false
   },
   "outputs": [
    {
     "data": {
      "text/plain": [
       "[<matplotlib.lines.Line2D object at 0x7fd0ba581b90>]"
      ]
     },
     "execution_count": 33,
     "metadata": {},
     "output_type": "execute_result"
    },
    {
     "data": {
      "image/png": "[encoded data removed]",
      "text/plain": [
       "<matplotlib.figure.Figure object at 0x7fd093c5fd10>"
      ]
     },
     "metadata": {},
     "output_type": "display_data"
    }
   ],
   "source": [
    "f = 1.0\n",
    "t = np.linspace(0,1, num = 1000 )\n",
    "x = np.sin(2*np.pi*f*t)\n",
    "\n",
    "plt.figure()\n",
    "plt.plot(t, x)"
   ]
  },
  {
   "cell_type": "markdown",
   "metadata": {},
   "source": [
    "Plot $x[n] = sin(2\\pi f n)$ with frequency step of $f_s$\n",
    "$$x[n] = sin(2\\pi\\frac{f}{f_s}n)$$"
   ]
  },
  {
   "cell_type": "code",
   "execution_count": 51,
   "metadata": {
    "collapsed": false
   },
   "outputs": [
    {
     "data": {
      "text/plain": [
       "<Container object of 3 artists>"
      ]
     },
     "execution_count": 51,
     "metadata": {},
     "output_type": "execute_result"
    },
    {
     "data": {
      "image/png": "[encoded data removed]",
      "text/plain": [
       "<matplotlib.figure.Figure object at 0x7fd092429510>"
      ]
     },
     "metadata": {},
     "output_type": "display_data"
    }
   ],
   "source": [
    "fs = 4\n",
    "n = np.arange(10)\n",
    "\n",
    "x = np.sin(2*np.pi*(1.0/fs)*n)\n",
    "plt.stem(x)"
   ]
  },
  {
   "cell_type": "markdown",
   "metadata": {},
   "source": [
    "## Exercise 1 - Causality"
   ]
  },
  {
   "cell_type": "markdown",
   "metadata": {},
   "source": [
    " **1.1** Considering the system defined by the equation $y_k=(x_k+x_{k+1})/2$, check its causality property by examining the response to the signal $H(k-4)$ or `step(4,N)`."
   ]
  },
  {
   "cell_type": "code",
   "execution_count": 22,
   "metadata": {
    "collapsed": false
   },
   "outputs": [
    {
     "data": {
      "text/plain": [
       "<matplotlib.text.Text object at 0x7fd093c54c10>"
      ]
     },
     "execution_count": 22,
     "metadata": {},
     "output_type": "execute_result"
    },
    {
     "data": {
      "image/png": "[encoded data removed]",
      "text/plain": [
       "<matplotlib.figure.Figure object at 0x7fd095f57150>"
      ]
     },
     "metadata": {},
     "output_type": "display_data"
    },
    {
     "data": {
      "image/png": "[encoded data removed]",
      "text/plain": [
       "<matplotlib.figure.Figure object at 0x7fd093bbc790>"
      ]
     },
     "metadata": {},
     "output_type": "display_data"
    }
   ],
   "source": [
    "def step(n = 0, N = 20):\n",
    "    if ( (n >= 0) and (n < N) ):\n",
    "        x = np.zeros((N, 1))\n",
    "        for i in range(n, N):\n",
    "            x[i] = 1\n",
    "        return(x)\n",
    "    else:\n",
    "        print ('error! n in undefined range')\n",
    "\n",
    "x = step(4)\n",
    "y = np.zeros(x.shape)\n",
    "for i in range(0, len(x) - 1):\n",
    "    y[i] = (x[i] + x[i+1])/2\n",
    "\n",
    "plt.stem(x)\n",
    "plt.title('input signal step(n-4)')\n",
    "\n",
    "plt.figure()\n",
    "plt.stem(y)\n",
    "plt.title('output y')"
   ]
  },
  {
   "cell_type": "markdown",
   "metadata": {},
   "source": [
    "**1.2** Propose a modification to obtain a causal version"
   ]
  },
  {
   "cell_type": "code",
   "execution_count": 28,
   "metadata": {
    "collapsed": false
   },
   "outputs": [
    {
     "data": {
      "text/plain": [
       "<Container object of 3 artists>"
      ]
     },
     "execution_count": 28,
     "metadata": {},
     "output_type": "execute_result"
    },
    {
     "data": {
      "image/png": "[encoded data removed]",
      "text/plain": [
       "<matplotlib.figure.Figure object at 0x7fd0938ee890>"
      ]
     },
     "metadata": {},
     "output_type": "display_data"
    }
   ],
   "source": [
    "#we could define Y[k] = (X[k] - X[k-1])/2\n",
    "y_c = np.zeros(x.shape)\n",
    "for i in range(1, len(x)):\n",
    "    y_c[i] = (x[i] - x[i-1])/2\n",
    "\n",
    "plt.figure()\n",
    "plt.stem(y_c)\n",
    "\n",
    "#comments\n",
    "#In the previous example, the output starts before the signal.\n",
    "#In the suggested output, the output does not start before\n",
    "#the signal, and hence is causal"
   ]
  },
  {
   "cell_type": "markdown",
   "metadata": {},
   "source": [
    "Comments on your observations"
   ]
  },
  {
   "cell_type": "markdown",
   "metadata": {},
   "source": []
  },
  {
   "cell_type": "markdown",
   "metadata": {},
   "source": [
    "## Exercise 2 - stability\n",
    "\n",
    "**2.1** Program the primitive (accumulator) operator `prim(f)` applied on the signal  `f` of length `N`. The value of the vector returned by `prim` at the index `k` will correspond to $F_k$ with `k` $\\leq$ `N`. Note $F_k=\\sum_{q=-\\infty}^{k}f_k$. Discuss on the result of the primitive operator applied to the signal $H(k-4)$. Is the primitive operator stable ?\n",
    "\n"
   ]
  },
  {
   "cell_type": "code",
   "execution_count": 53,
   "metadata": {
    "collapsed": false
   },
   "outputs": [
    {
     "data": {
      "text/plain": [
       "<Container object of 3 artists>"
      ]
     },
     "execution_count": 53,
     "metadata": {},
     "output_type": "execute_result"
    },
    {
     "data": {
      "image/png": "[encoded data removed]",
      "text/plain": [
       "<matplotlib.figure.Figure object at 0x7fd09273e190>"
      ]
     },
     "metadata": {},
     "output_type": "display_data"
    }
   ],
   "source": [
    "#create signal for the accumulator operator\n",
    "f = step(4, 100)\n",
    "\n",
    "#initialize the primitive (accumulator) operator\n",
    "prim = np.zeros(f.shape) \n",
    "for i in range(0, len(prim)):\n",
    "    prim[i] = sum(f[0:i])\n",
    "\n",
    "plt.stem(prim)\n",
    "\n",
    "#Discussion\n",
    "#The operator is not stable since its output grows monotonically\n",
    "#As n becomes very large, the output grows unbounded for an \n",
    "#input that is always bounded (so it does not have BIBO stability)\n"
   ]
  },
  {
   "cell_type": "code",
   "execution_count": null,
   "metadata": {
    "collapsed": false
   },
   "outputs": [],
   "source": [
    "\n"
   ]
  },
  {
   "cell_type": "markdown",
   "metadata": {},
   "source": [
    "**2.2** What is the impulse response of the primitive operator (in the discrete domain) ?"
   ]
  },
  {
   "cell_type": "code",
   "execution_count": 57,
   "metadata": {
    "collapsed": false
   },
   "outputs": [
    {
     "data": {
      "text/plain": [
       "<Container object of 3 artists>"
      ]
     },
     "execution_count": 57,
     "metadata": {},
     "output_type": "execute_result"
    },
    {
     "data": {
      "image/png": "[encoded data removed]",
      "text/plain": [
       "<matplotlib.figure.Figure object at 0x7fd092c44490>"
      ]
     },
     "metadata": {},
     "output_type": "display_data"
    }
   ],
   "source": [
    "def dirac(n=0, N=20):\n",
    "    \n",
    "    if ( ( n >= 0 ) and (n < N) ):\n",
    "        s = np.zeros((N,1))\n",
    "        s[n] = 1\n",
    "        return(s)\n",
    "    else: \n",
    "        print ('error! n in undefined range')\n",
    "\n",
    "impulse = dirac(0)\n",
    "\n",
    "#initialize the primitive (accumulator) operator\n",
    "prim = np.zeros(impulse.shape) \n",
    "for i in range(0, len(prim)):\n",
    "    prim[i] = sum(impulse[0:i])\n",
    "    \n",
    "plt.stem(prim)\n",
    "\n",
    "#It is the heaviside step.\n"
   ]
  },
  {
   "cell_type": "markdown",
   "metadata": {},
   "source": [
    "**2.3** Test the stability of the system defined by the equation: $y_k=x_k+2y_{k-1}$. Plot the impulse response."
   ]
  },
  {
   "cell_type": "code",
   "execution_count": 64,
   "metadata": {
    "collapsed": false
   },
   "outputs": [
    {
     "data": {
      "text/plain": [
       "<Container object of 3 artists>"
      ]
     },
     "execution_count": 64,
     "metadata": {},
     "output_type": "execute_result"
    },
    {
     "data": {
      "image/png": "[encoded data removed]",
      "text/plain": [
       "<matplotlib.figure.Figure object at 0x7fd08ee859d0>"
      ]
     },
     "metadata": {},
     "output_type": "display_data"
    }
   ],
   "source": [
    "impulse = dirac(0, 100)\n",
    "y = np.zeros(impulse.shape)\n",
    "\n",
    "for i in range(0, len(y)):\n",
    "    y[i] = impulse[i] + 2*y[i-1]\n",
    "\n",
    "plt.stem(y)\n",
    "\n",
    "#The output grows unbounded for bounded input (impulse). \n",
    "#Hence, this system is BIBO unstable."
   ]
  },
  {
   "cell_type": "markdown",
   "metadata": {},
   "source": [
    "**2.4** Test the stability of the system defined by the equation: $y_k=x_k+y_{k-1}/3$. \n",
    "\n",
    "Plot the impulse response."
   ]
  },
  {
   "cell_type": "code",
   "execution_count": 65,
   "metadata": {
    "collapsed": false
   },
   "outputs": [
    {
     "data": {
      "text/plain": [
       "<Container object of 3 artists>"
      ]
     },
     "execution_count": 65,
     "metadata": {},
     "output_type": "execute_result"
    },
    {
     "data": {
      "image/png": "[encoded data removed]",
      "text/plain": [
       "<matplotlib.figure.Figure object at 0x7fd08ebc25d0>"
      ]
     },
     "metadata": {},
     "output_type": "display_data"
    }
   ],
   "source": [
    "impulse = dirac(0, 100)\n",
    "y = np.zeros(impulse.shape)\n",
    "\n",
    "for i in range(0, len(y)):\n",
    "    y[i] = impulse[i] + y[i-1]/3.0\n",
    "\n",
    "plt.stem(y)\n",
    "\n",
    "#This system is BIBO stable since the output decays and goes to \n",
    "#zero for impulse input; hence, it is BIBO stable since it has\n",
    "#finite power/energy."
   ]
  },
  {
   "cell_type": "markdown",
   "metadata": {},
   "source": [
    "Comments your observations"
   ]
  },
  {
   "cell_type": "markdown",
   "metadata": {},
   "source": []
  },
  {
   "cell_type": "markdown",
   "metadata": {},
   "source": [
    "## Excercise 3 - Invariance and linearity\n",
    " \n",
    "\n",
    "**3.1** Define the following signals: ${\\tt x_a=[0\\, 0\\,  0 \\, 0 \\, 1 \\, 2 \\, 3 \\, 4 \\, 5 \\, 0 \\, 0 \\, 0 \\, 0\\,  0\\,  0\\,  0\\,  0\\,  0\\,  0]; x_b=[0\\,  0 \\, 0 \\, 0 \\, 0 \\, 0 \\, 0 \\, 0 \\, 0 \\, 4 \\, 3 \\, 2 \\, 1 \\, 0 \\, 0 \\, 0 \\, 0 \\, 0 \\, 0];}$. Compute the responses $y_a$, $y_b$ according to the equation $y=3x_{k-1}-2x_k+x_{k+1}$\n",
    "\n",
    "plot your responses with their corresponding input.\n"
   ]
  },
  {
   "cell_type": "code",
   "execution_count": 78,
   "metadata": {
    "collapsed": false
   },
   "outputs": [
    {
     "data": {
      "text/plain": [
       "<matplotlib.text.Text object at 0x7fd08d817110>"
      ]
     },
     "execution_count": 78,
     "metadata": {},
     "output_type": "execute_result"
    },
    {
     "data": {
      "image/png": "[encoded data removed]",
      "text/plain": [
       "<matplotlib.figure.Figure object at 0x7fd08e87d5d0>"
      ]
     },
     "metadata": {},
     "output_type": "display_data"
    },
    {
     "data": {
      "image/png": "[encoded data removed]",
      "text/plain": [
       "<matplotlib.figure.Figure object at 0x7fd08da03150>"
      ]
     },
     "metadata": {},
     "output_type": "display_data"
    },
    {
     "data": {
      "image/png": "[encoded data removed]",
      "text/plain": [
       "<matplotlib.figure.Figure object at 0x7fd08f103690>"
      ]
     },
     "metadata": {},
     "output_type": "display_data"
    },
    {
     "data": {
      "image/png": "[encoded data removed]",
      "text/plain": [
       "<matplotlib.figure.Figure object at 0x7fd08d8df9d0>"
      ]
     },
     "metadata": {},
     "output_type": "display_data"
    }
   ],
   "source": [
    "def customSystem(x):\n",
    "    y = np.zeros(len(x))\n",
    "    for i in range(0, len(x)-1):\n",
    "        if (i==0):\n",
    "            y[i] = -2*x[i] + x[i+1]\n",
    "        else:\n",
    "            y[i] = 3*x[i-1] - 2*x[i] + x[i+1]\n",
    "    \n",
    "    return(y)\n",
    "\n",
    "xa = np.array([0,0,0,0,1,2,3,4,5,0,0,0,0,0,0,0,0,0,0])\n",
    "xb = np.array([0,0,0,0,0,0,0,0,0,4,3,2,0,0,0,0,0,0,0])\n",
    "\n",
    "ya = customSystem(xa)\n",
    "yb = customSystem(xb)\n",
    "\n",
    "plt.figure()\n",
    "plt.stem(xa)\n",
    "plt.title('input signal xa')\n",
    "plt.figure()\n",
    "plt.stem(ya)\n",
    "plt.title('output signal ya')\n",
    "\n",
    "plt.figure()\n",
    "plt.stem(xb)\n",
    "plt.title('input signal xb')\n",
    "plt.figure()\n",
    "plt.stem(yb)\n",
    "plt.title('output signal yb')\n",
    "\n",
    "\n"
   ]
  },
  {
   "cell_type": "markdown",
   "metadata": {},
   "source": [
    "**3.2** Prove the system defined by the previous equation is linear (and invariant). Write the equation as a convolution equation.\n"
   ]
  },
  {
   "cell_type": "code",
   "execution_count": 81,
   "metadata": {
    "collapsed": false
   },
   "outputs": [
    {
     "data": {
      "text/plain": [
       "<matplotlib.text.Text object at 0x7fd08ca23a10>"
      ]
     },
     "execution_count": 81,
     "metadata": {},
     "output_type": "execute_result"
    },
    {
     "data": {
      "image/png": "[encoded data removed]",
      "text/plain": [
       "<matplotlib.figure.Figure object at 0x7fd08d320e90>"
      ]
     },
     "metadata": {},
     "output_type": "display_data"
    },
    {
     "data": {
      "image/png": "[encoded data removed]",
      "text/plain": [
       "<matplotlib.figure.Figure object at 0x7fd08cd6b450>"
      ]
     },
     "metadata": {},
     "output_type": "display_data"
    },
    {
     "data": {
      "image/png": "[encoded data removed]",
      "text/plain": [
       "<matplotlib.figure.Figure object at 0x7fd08cc36e90>"
      ]
     },
     "metadata": {},
     "output_type": "display_data"
    },
    {
     "data": {
      "image/png": "[encoded data removed]",
      "text/plain": [
       "<matplotlib.figure.Figure object at 0x7fd08cba1550>"
      ]
     },
     "metadata": {},
     "output_type": "display_data"
    },
    {
     "data": {
      "image/png": "[encoded data removed]",
      "text/plain": [
       "<matplotlib.figure.Figure object at 0x7fd08ca81ed0>"
      ]
     },
     "metadata": {},
     "output_type": "display_data"
    }
   ],
   "source": [
    "#to show that the system is linear\n",
    "x = xa + xb\n",
    "y1 = ya + yb\n",
    "y2 = customSystem(x)\n",
    "\n",
    "plt.figure()\n",
    "plt.stem(x)\n",
    "plt.title('combined signal xa + xb')\n",
    "\n",
    "plt.figure()\n",
    "plt.stem(y1)\n",
    "plt.title('sum of ya and yb')\n",
    "\n",
    "plt.figure()\n",
    "plt.stem(y2)\n",
    "plt.title('response to xa + xb')\n",
    "\n",
    "#to show that the system is time invariant\n",
    "#delay xa by 2 samples\n",
    "xa_d = np.array([0,0,0,0,0,0,1,2,3,4,5,0,0,0,0,0,0,0,0,0,0])\n",
    "ya_d = customSystem(xa_d)\n",
    "\n",
    "plt.figure()\n",
    "plt.stem(ya)\n",
    "plt.title('output to xa')\n",
    "plt.figure()\n",
    "plt.stem(ya_d)\n",
    "plt.title('output to xa delayed by 2 samples')\n",
    "\n",
    "#since delaying the input also delays the output by 2 samples, \n",
    "#the output is time invariant\n"
   ]
  },
  {
   "cell_type": "markdown",
   "metadata": {},
   "source": [
    "**3.3** Propose a nonlinear/noninvariant system."
   ]
  },
  {
   "cell_type": "code",
   "execution_count": null,
   "metadata": {
    "collapsed": false
   },
   "outputs": [],
   "source": [
    "#y[n] = n*sin(2*pi*n)"
   ]
  }
 ],
 "metadata": {
  "anaconda-cloud": {},
  "kernelspec": {
   "display_name": "Python 2",
   "language": "python",
   "name": "python2"
  },
  "language_info": {
   "codemirror_mode": {
    "name": "ipython",
    "version": 2
   },
   "file_extension": ".py",
   "mimetype": "text/x-python",
   "name": "python",
   "nbconvert_exporter": "python",
   "pygments_lexer": "ipython2",
   "version": "2.7.10"
  }
 },
 "nbformat": 4,
 "nbformat_minor": 1
}
