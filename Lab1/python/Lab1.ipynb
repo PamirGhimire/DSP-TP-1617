{
 "cells": [
  {
   "cell_type": "markdown",
   "metadata": {},
   "source": [
    "# Digital Signal Processing\n",
    "\n",
    "### MsCV - ViBOT - MAIA"
   ]
  },
  {
   "cell_type": "code",
   "execution_count": 2,
   "metadata": {
    "collapsed": false
   },
   "outputs": [
    {
     "name": "stdout",
     "output_type": "stream",
     "text": [
      "Pretty printing has been turned OFF\n"
     ]
    }
   ],
   "source": [
    "%matplotlib inline\n",
    "%pprint off\n",
    "\n",
    "# To make some nice plot\n",
    "import matplotlib.pyplot as plt\n",
    "# To play with arrays\n",
    "import numpy as np"
   ]
  },
  {
   "cell_type": "markdown",
   "metadata": {},
   "source": [
    "## Exercise 1"
   ]
  },
  {
   "cell_type": "markdown",
   "metadata": {},
   "source": [
    "#### 1.1 Dirac function\n",
    "Considering the Dirac function corresponding to the equation below, write a <tt>dirac</tt> function to define a discrete signal of length $N$ and containing the Dirac function at the position $n$, as $\\delta(k-n)$. Verify inside the function that $n \\in [0,N-1]$ and raise an error if it is not the case.\n",
    "\n",
    "$\\delta(k) = \\left\\{\n",
    "    \\begin{array}{lll}\n",
    "        1 & \\mbox{if}  & k=0 \\\\\n",
    "        0 &  &\\mbox{elsewhere}\n",
    "    \\end{array} \\right .$\n",
    "    \n",
    "By default $n$ and $N$ should be equal to 0 and 20, respectively. Plot the signal for $n=10$ using the function <tt>stem</tt> and add labels and title."
   ]
  },
  {
   "cell_type": "code",
   "execution_count": 22,
   "metadata": {
    "collapsed": false
   },
   "outputs": [
    {
     "data": {
      "text/plain": [
       "array([[ 0.],\n",
       "       [ 0.],\n",
       "       [ 0.],\n",
       "       [ 1.],\n",
       "       [ 0.],\n",
       "       [ 0.],\n",
       "       [ 0.],\n",
       "       [ 0.],\n",
       "       [ 0.],\n",
       "       [ 0.],\n",
       "       [ 0.],\n",
       "       [ 0.],\n",
       "       [ 0.],\n",
       "       [ 0.],\n",
       "       [ 0.],\n",
       "       [ 0.],\n",
       "       [ 0.],\n",
       "       [ 0.],\n",
       "       [ 0.],\n",
       "       [ 0.]])"
      ]
     },
     "execution_count": 22,
     "metadata": {},
     "output_type": "execute_result"
    }
   ],
   "source": [
    "def dirac(n=0, N=20):\n",
    "    \n",
    "    if ( ( n > 0 ) and (n < N) ):\n",
    "        s = np.zeros((N,1))\n",
    "        s[n] = 1\n",
    "        return(s)\n",
    "    else: \n",
    "        print 'error! n in undefined range'\n",
    "\n",
    "dirac(3, 20)\n"
   ]
  },
  {
   "cell_type": "code",
   "execution_count": 17,
   "metadata": {
    "collapsed": false
   },
   "outputs": [
    {
     "data": {
      "text/plain": [
       "<matplotlib.text.Text object at 0x7faebdaafa50>"
      ]
     },
     "execution_count": 17,
     "metadata": {},
     "output_type": "execute_result"
    },
    {
     "data": {
      "image/png": "[encoded data removed]",
      "text/plain": [
       "<matplotlib.figure.Figure object at 0x7faebdc22fd0>"
      ]
     },
     "metadata": {},
     "output_type": "display_data"
    }
   ],
   "source": [
    "plt.stem(dirac(3))\n",
    "plt.xlabel(r'$n$')\n",
    "plt.ylabel(r'$\\delta(k-n)$')\n",
    "plt.title('Dirac function')"
   ]
  },
  {
   "cell_type": "markdown",
   "metadata": {},
   "source": [
    "#### 1.2 Step function\n",
    "Considering the step function $H$ corresponding to the equation below, write a function <tt>step</tt> to define a discrete signal of length $N$ and containing the value of the step function shifted at the position $n$, as $H(k-n)$. Verify inside the function that $n \\in [0,N-1]$ and raise an error if it is not the case.\n",
    "\n",
    "$H(k) = \\left\\{\n",
    "    \\begin{array}{lll}\n",
    "        1 & \\mbox{if}  & k\\geq 0 \\\\\n",
    "        0 & & \\mbox{elsewhere}\n",
    "    \\end{array} \\right .$\n",
    "    \n",
    "By default $n$ and $N$ should be equal to 0 and 20, respectively. Plot the signal for $n=10$ using the function <tt>stem</tt> and add labels and title."
   ]
  },
  {
   "cell_type": "code",
   "execution_count": 86,
   "metadata": {
    "collapsed": false
   },
   "outputs": [
    {
     "data": {
      "text/plain": [
       "<Container object of 3 artists>"
      ]
     },
     "execution_count": 86,
     "metadata": {},
     "output_type": "execute_result"
    },
    {
     "data": {
      "image/png": "[encoded data removed]",
      "text/plain": [
       "<matplotlib.figure.Figure object at 0x7faebce8cb50>"
      ]
     },
     "metadata": {},
     "output_type": "display_data"
    }
   ],
   "source": [
    "def step(n = 0, N = 20):\n",
    "    if ( (n >= 0) and (n < N) ):\n",
    "        x = np.zeros((N, 1))\n",
    "        for i in range(n, N):\n",
    "            x[i] = 1\n",
    "        return(x)\n",
    "    else:\n",
    "        print ('error! n in undefined range')\n",
    "\n",
    "stepfun = step(0, 20)\n",
    "plt.stem(stepfun)\n"
   ]
  },
  {
   "cell_type": "code",
   "execution_count": null,
   "metadata": {
    "collapsed": false
   },
   "outputs": [],
   "source": []
  },
  {
   "cell_type": "markdown",
   "metadata": {},
   "source": [
    "#### 1.3 Ramp function\n",
    "Considering the ramp function $P(k)$ corresponding to the equation below, write a function <tt>ramp</tt> to define a discrete signal of length $N$ and containing the values of the ramp function shifted at the position $n$ with a slope $a$, as $a.P(k-n)$. Verify inside the function that $n \\in [0,N-1]$ or that $a \\neq 0$ and raise an error if it is not the case.\n",
    "\n",
    "$P(k) = \\left\\{\n",
    "    \\begin{array}{lll}\n",
    "        k & \\mbox{if}  & k\\geq 0 \\\\\n",
    "        0 & & \\mbox{elsewhere}\n",
    "    \\end{array} \\right.$\n",
    "    \n",
    "By default $a$, $n$, and $N$ should be equal to $1$, $0$, and $20$, respectively. Plot the signal for $a=2$ and $n=10$ using the function <tt>stem</tt> and add labels and title."
   ]
  },
  {
   "cell_type": "code",
   "execution_count": 84,
   "metadata": {
    "collapsed": false
   },
   "outputs": [
    {
     "name": "stdout",
     "output_type": "stream",
     "text": [
      "[  0.   1.   2.   3.   4.   5.   6.   7.   8.   9.  10.  11.  12.  13.  14.\n",
      "  15.  16.  17.  18.  19.]\n"
     ]
    },
    {
     "data": {
      "text/plain": [
       "<Container object of 3 artists>"
      ]
     },
     "execution_count": 84,
     "metadata": {},
     "output_type": "execute_result"
    },
    {
     "data": {
      "image/png": "[encoded data removed]",
      "text/plain": [
       "<matplotlib.figure.Figure object at 0x7faebd0ba9d0>"
      ]
     },
     "metadata": {},
     "output_type": "display_data"
    }
   ],
   "source": [
    "def ramp(a = 1, n = 1,  N = 20):\n",
    "    x = np.zeros((N, 1))\n",
    "    dumramp = np.array(a * (np.linspace(n,N-1, N-n) - n))\n",
    "    print dumramp\n",
    "    \n",
    "    for i in range(n, N-1):\n",
    "        x[i] = dumramp[i - n]\n",
    "\n",
    "    return(x)\n",
    "\n",
    "ramp1 = ramp(1, 0, 20)\n",
    "plt.stem(ramp1)"
   ]
  },
  {
   "cell_type": "code",
   "execution_count": null,
   "metadata": {
    "collapsed": false
   },
   "outputs": [],
   "source": []
  },
  {
   "cell_type": "markdown",
   "metadata": {},
   "source": [
    "#### 1.4 Geometric function\n",
    "Considering the geometric function $G(k)$ corresponding to the equation below, write a function <tt>geo</tt> to define a discrete signal of length $N$ and containing the values of the geometric function shifted at the position $n$, as $G(k-n)$. Verify inside the function that $n \\in [0,N-1]$ and raise an error if it is not the case.\n",
    "\n",
    "$G(k) = \\left\\{\n",
    "    \\begin{array}{lll}\n",
    "        a^k & \\mbox{if}  & k\\geq 0 \\\\\n",
    "        0 & & \\mbox{elsewhere}\n",
    "    \\end{array} \\right. $\n",
    "    \n",
    "By default $a$, $n$, and $N$ should be equal to $2$, $0$, and $20$, respectively. Plot the signal for $a=2$ and $n=10$ using the function <tt>stem</tt> and add labels and title."
   ]
  },
  {
   "cell_type": "code",
   "execution_count": 89,
   "metadata": {
    "collapsed": false
   },
   "outputs": [],
   "source": [
    "def geo(a = 1, n = 0, N = 20):\n",
    "    if ( (n>=0) and (n<N) ):\n",
    "        x = np.zeros((N, 1))\n",
    "        for i in range(n, N):\n",
    "            x[i] = a**(i-n)\n",
    "        return(x)\n",
    "    else:\n",
    "        print 'error! n not in proper range'\n"
   ]
  },
  {
   "cell_type": "code",
   "execution_count": 90,
   "metadata": {
    "collapsed": false
   },
   "outputs": [
    {
     "data": {
      "text/plain": [
       "<Container object of 3 artists>"
      ]
     },
     "execution_count": 90,
     "metadata": {},
     "output_type": "execute_result"
    },
    {
     "data": {
      "image/png": "[encoded data removed]",
      "text/plain": [
       "<matplotlib.figure.Figure object at 0x7faebcb6c910>"
      ]
     },
     "metadata": {},
     "output_type": "display_data"
    }
   ],
   "source": [
    "geo_signal = geo(2, 0, 20)     \n",
    "plt.stem(geo_signal)"
   ]
  },
  {
   "cell_type": "markdown",
   "metadata": {},
   "source": [
    "#### 1.5 Box function \n",
    "Considering the box function $B_a(k)$ corresponding to the equation below, write a function <tt>box</tt> to define a discrete signal of length $N$ and containing the values of the <tt>box</tt> function shifted at the position $n$ with a half-width $a$, as $B_a(k-n)$. Verify inside the function that $n \\in [a,N-a]$ and $a > 0$. If not, raise an error if it is not the case.\n",
    "\n",
    "$B_a(k) = \\left\\{\n",
    "    \\begin{array}{lll}\n",
    "        1 & \\mbox{if}  & -a \\leq k \\leq a \\\\\n",
    "        0 & & \\mbox{elsewhere}\n",
    "    \\end{array} \\right.  $\n",
    "    \n",
    "By default $a$, $n$, and $N$ should be equal to $1$, $10$, and $20$, respectively. Plot the signal for $a=3$ and $n=10$ using the function <tt>stem</tt> and add labels and title."
   ]
  },
  {
   "cell_type": "code",
   "execution_count": 95,
   "metadata": {
    "collapsed": false
   },
   "outputs": [],
   "source": [
    "def box(a = 1, n = 10, N = 20):\n",
    "    if ( (n >= a) and (n <= N - a) ):\n",
    "        x = np.zeros((N, 1))\n",
    "        for i in range(n - a, n + a + 1):\n",
    "            x[i] = 1\n",
    "        return (x)\n",
    "    else:\n",
    "        print 'error! inputs not in acceptable range'\n",
    "         "
   ]
  },
  {
   "cell_type": "code",
   "execution_count": 96,
   "metadata": {
    "collapsed": false
   },
   "outputs": [
    {
     "data": {
      "text/plain": [
       "<Container object of 3 artists>"
      ]
     },
     "execution_count": 96,
     "metadata": {},
     "output_type": "execute_result"
    },
    {
     "data": {
      "image/png": "[encoded data removed]",
      "text/plain": [
       "<matplotlib.figure.Figure object at 0x7faebcb92310>"
      ]
     },
     "metadata": {},
     "output_type": "display_data"
    }
   ],
   "source": [
    "box_signal = box(1, 10, 20)\n",
    "plt.stem(box_signal)"
   ]
  },
  {
   "cell_type": "markdown",
   "metadata": {},
   "source": [
    "#### 1.6 Discrete sine function\n",
    "Write a function <tt>sin_fn</tt> to define a discrete signal of length $N$ and containing the values of $\\sin(2\\pi f n T_s)$. The parameters are the frequency of the wave, the number of period, and the sampling frequency.\n",
    "\n",
    "Plot a single period signal with a frequency of 10 Hertz and a sampling frequency of 100 Hertz using the function <tt>stem</tt> and add labels and title."
   ]
  },
  {
   "cell_type": "code",
   "execution_count": 109,
   "metadata": {
    "collapsed": false
   },
   "outputs": [],
   "source": [
    "def sin_fn(f, fs, nperiods = 1, N = 20):\n",
    "    pi = 3.1415\n",
    "    ts = 1.0/fs\n",
    "    stop_time = nperiods * (1.0/f)\n",
    "    \n",
    "    x = np.zeros((N, 1))\n",
    "    n = 0\n",
    "    \n",
    "    while ( (n*ts <= stop_time) and (n < N) ):\n",
    "        x[n] = np.sin(2*pi*f*(ts*n))\n",
    "        n = n+1\n",
    "    return(x)\n",
    "\n",
    "\n",
    "    "
   ]
  },
  {
   "cell_type": "code",
   "execution_count": 110,
   "metadata": {
    "collapsed": false
   },
   "outputs": [
    {
     "data": {
      "text/plain": [
       "<Container object of 3 artists>"
      ]
     },
     "execution_count": 110,
     "metadata": {},
     "output_type": "execute_result"
    },
    {
     "data": {
      "image/png": "[encoded data removed]",
      "text/plain": [
       "<matplotlib.figure.Figure object at 0x7faebc516b10>"
      ]
     },
     "metadata": {},
     "output_type": "display_data"
    }
   ],
   "source": [
    "sin_signal = sin_fn(10, 100, 1, 20)\n",
    "plt.stem(sin_signal)"
   ]
  },
  {
   "cell_type": "markdown",
   "metadata": {},
   "source": [
    "Repeat the plotting for a signal with a frequency of 10 Hertz and a sampling frequency of 1000 Hertz and 2 periods. "
   ]
  },
  {
   "cell_type": "code",
   "execution_count": 115,
   "metadata": {
    "collapsed": false
   },
   "outputs": [
    {
     "data": {
      "text/plain": [
       "<Container object of 3 artists>"
      ]
     },
     "execution_count": 115,
     "metadata": {},
     "output_type": "execute_result"
    },
    {
     "data": {
      "image/png": "[encoded data removed]",
      "text/plain": [
       "<matplotlib.figure.Figure object at 0x7faebc941cd0>"
      ]
     },
     "metadata": {},
     "output_type": "display_data"
    }
   ],
   "source": [
    "plt.stem(sin_fn(10, 1000, 2, 200))"
   ]
  },
  {
   "cell_type": "markdown",
   "metadata": {},
   "source": [
    "Repeat the plotting for a signal with a frequency of 10 Hertz and a sampling frequency of 30 Hertz (per period) and 2 periods. "
   ]
  },
  {
   "cell_type": "code",
   "execution_count": 116,
   "metadata": {
    "collapsed": false
   },
   "outputs": [
    {
     "data": {
      "text/plain": [
       "<Container object of 3 artists>"
      ]
     },
     "execution_count": 116,
     "metadata": {},
     "output_type": "execute_result"
    },
    {
     "data": {
      "image/png": "[encoded data removed]",
      "text/plain": [
       "<matplotlib.figure.Figure object at 0x7faebb61b250>"
      ]
     },
     "metadata": {},
     "output_type": "display_data"
    }
   ],
   "source": [
    "plt.stem((sin_fn(10, 30, 2, 10)))"
   ]
  },
  {
   "cell_type": "markdown",
   "metadata": {},
   "source": [
    "The sampling frequency, fs, must satisfy the shannon nyquist criteria whereby fs >> 2 * fmax, where fmax is the maximum non-zero frequency in the spectrum of the signal.\n"
   ]
  },
  {
   "cell_type": "markdown",
   "metadata": {},
   "source": [
    "## Exercise 2"
   ]
  },
  {
   "cell_type": "markdown",
   "metadata": {},
   "source": [
    "#### 2.1 Gaussian Noise\n",
    "Generate an observation $x_n$ with 1000 of the normal/gaussian random process ${\\cal N}$.\n",
    "\n",
    "Plot the histogram of these data as well as the theoretical distribution."
   ]
  },
  {
   "cell_type": "code",
   "execution_count": 5,
   "metadata": {
    "collapsed": false
   },
   "outputs": [],
   "source": [
    "# Define the mean and standard deviation\n",
    "\n",
    "# np.random.normal(mu, sigma, (N, ))\n",
    "\n",
    "# Plot the histogram\n",
    "#n, bins, patches = plt.hist(..., 50, normed=1, alpha=0.25)\n",
    "\n",
    "# Plot the distribution\n",
    "from scipy.stats import norm\n",
    "#distri = norm.pdf(bins, mu, sigma)\n"
   ]
  },
  {
   "cell_type": "markdown",
   "metadata": {},
   "source": [
    "\n",
    "Increase the number of samples to 10000 and repeat the experiment. Discuss."
   ]
  },
  {
   "cell_type": "code",
   "execution_count": 6,
   "metadata": {
    "collapsed": false,
    "scrolled": true
   },
   "outputs": [],
   "source": [
    "# Define the mean and standard deviation\n"
   ]
  },
  {
   "cell_type": "markdown",
   "metadata": {},
   "source": [
    "#### 2.2 Uniform distribution\n",
    "Same question with the uniform law of the random process ${\\cal U}$ and an observation $x_u$."
   ]
  },
  {
   "cell_type": "code",
   "execution_count": 7,
   "metadata": {
    "collapsed": false
   },
   "outputs": [],
   "source": [
    "# Define the number of samples to draw\n",
    "\n",
    "\n",
    "# Generate the data\n",
    "#np.random.uniform(...)\n",
    "\n",
    "# Plot the histogram\n"
   ]
  },
  {
   "cell_type": "markdown",
   "metadata": {},
   "source": [
    "#### 2.3 Autocorrelation\n",
    "Compute the autocorrelation of the two observations and plot them. Are these noises \"white\"? Conclusion?"
   ]
  },
  {
   "cell_type": "code",
   "execution_count": 8,
   "metadata": {
    "collapsed": false
   },
   "outputs": [],
   "source": [
    "# Compute the autocorrelation of Gaussian observations\n",
    "## np.correlate(...)"
   ]
  },
  {
   "cell_type": "markdown",
   "metadata": {},
   "source": [
    "Generate three binary random signals $s_1, s_2, s_3$ thanks to the instruction <tt>np.round(np.random.uniform(0, 1, 50))</tt>. Generate a whole signal $s$ containing these signals at different shifts. Compute the cross-correlation between the whole signals and $s_1, s_2, s_3$. Comment the results."
   ]
  },
  {
   "cell_type": "code",
   "execution_count": null,
   "metadata": {
    "collapsed": false
   },
   "outputs": [],
   "source": []
  },
  {
   "cell_type": "code",
   "execution_count": null,
   "metadata": {
    "collapsed": true
   },
   "outputs": [],
   "source": []
  }
 ],
 "metadata": {
  "anaconda-cloud": {},
  "kernelspec": {
   "display_name": "Python 2",
   "language": "python",
   "name": "python2"
  },
  "language_info": {
   "codemirror_mode": {
    "name": "ipython",
    "version": 2
   },
   "file_extension": ".py",
   "mimetype": "text/x-python",
   "name": "python",
   "nbconvert_exporter": "python",
   "pygments_lexer": "ipython2",
   "version": "2.7.11"
  }
 },
 "nbformat": 4,
 "nbformat_minor": 1
}
